{
 "cells": [
  {
   "cell_type": "code",
   "execution_count": 7,
   "id": "3d665e97-fe96-4e97-b0a8-ed7a9ac99976",
   "metadata": {},
   "outputs": [],
   "source": [
    "# Step 1: Define Objective\n",
    "# Analyze sentiment of customer reviews\n",
    "# Step 2: Import tools (Framework: NLP Sentiment Analysis)\n",
    "from textblob import TextBlob\n"
   ]
  },
  {
   "cell_type": "code",
   "execution_count": 8,
   "id": "72c2d460-7ef2-4d97-b190-ece78632f4ac",
   "metadata": {},
   "outputs": [],
   "source": [
    "reviews = [\n",
    " \"The product is great and works as expected!\",\n",
    " \"Terrible service. I'm never buying again.\",\n",
    " \"Average experience, nothing special.\",\n",
    " \"Absolutely loved it. Highly recommended!\"\n",
    " ]"
   ]
  },
  {
   "cell_type": "code",
   "execution_count": 16,
   "id": "b65aa01b-e3cc-469e-82a9-42978f0e198c",
   "metadata": {},
   "outputs": [
    {
     "name": "stdout",
     "output_type": "stream",
     "text": [
      "Review: 'The product is great and works as expected!'\n",
      " -> Sentiment: Positive (Score: 0.3375)\n",
      "\n",
      "Review: 'Terrible service. I'm never buying again.'\n",
      " -> Sentiment: Negative (Score: -1.0)\n",
      "\n",
      "Review: 'Average experience, nothing special.'\n",
      " -> Sentiment: Positive (Score: 0.10357142857142858)\n",
      "\n",
      "Review: 'Absolutely loved it. Highly recommended!'\n",
      " -> Sentiment: Positive (Score: 0.44999999999999996)\n",
      "\n"
     ]
    }
   ],
   "source": [
    "# Step 4: Apply Framework (Sentiment Analysis)\n",
    "for review in reviews:\n",
    "    analysis = TextBlob(review)\n",
    "    sentiment = analysis.sentiment.polarity\n",
    "    if sentiment > 0:\n",
    "        label = \"Positive\"\n",
    "    elif sentiment < 0:\n",
    "        label = \"Negative\"\n",
    "    else:\n",
    "        label = \"Neutral\"\n",
    "    print(f\"Review: '{review}'\\n -> Sentiment: {label} (Score: {sentiment})\\n\")\n"
   ]
  },
  {
   "cell_type": "code",
   "execution_count": null,
   "id": "92dda4be-f29a-4876-a41c-d23d5cfc93ea",
   "metadata": {},
   "outputs": [],
   "source": []
  }
 ],
 "metadata": {
  "kernelspec": {
   "display_name": "Python [conda env:base] *",
   "language": "python",
   "name": "conda-base-py"
  },
  "language_info": {
   "codemirror_mode": {
    "name": "ipython",
    "version": 3
   },
   "file_extension": ".py",
   "mimetype": "text/x-python",
   "name": "python",
   "nbconvert_exporter": "python",
   "pygments_lexer": "ipython3",
   "version": "3.12.7"
  }
 },
 "nbformat": 4,
 "nbformat_minor": 5
}
